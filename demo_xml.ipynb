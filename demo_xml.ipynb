{
 "cells": [
  {
   "cell_type": "code",
   "execution_count": 1,
   "metadata": {},
   "outputs": [],
   "source": [
    "import requests\n",
    "import urllib3\n",
    "import pandas as pd\n",
    "import datetime\n",
    "import xml.etree.ElementTree as ET\n",
    "import csv"
   ]
  },
  {
   "cell_type": "code",
   "execution_count": 2,
   "metadata": {},
   "outputs": [
    {
     "name": "stdout",
     "output_type": "stream",
     "text": [
      "Oracle Error: DPY-6005: cannot connect to database (CONNECTION_ID=BYVG6vnTLfRE7Axo/rVGXg==).\n",
      "[WinError 10061] No connection could be made because the target machine actively refused it\n"
     ]
    },
    {
     "ename": "NameError",
     "evalue": "name 'conn' is not defined",
     "output_type": "error",
     "traceback": [
      "\u001b[1;31m---------------------------------------------------------------------------\u001b[0m",
      "\u001b[1;31mNameError\u001b[0m                                 Traceback (most recent call last)",
      "\u001b[1;32md:\\Intern_VNPT\\sep_21\\demo_xml.ipynb Cell 2\u001b[0m line \u001b[0;36m2\n\u001b[0;32m     <a href='vscode-notebook-cell:/d%3A/Intern_VNPT/sep_21/demo_xml.ipynb#W1sZmlsZQ%3D%3D?line=23'>24</a>\u001b[0m     \u001b[39mprint\u001b[39m(\u001b[39m\"\u001b[39m\u001b[39mOracle Error:\u001b[39m\u001b[39m\"\u001b[39m, e)\n\u001b[0;32m     <a href='vscode-notebook-cell:/d%3A/Intern_VNPT/sep_21/demo_xml.ipynb#W1sZmlsZQ%3D%3D?line=24'>25</a>\u001b[0m \u001b[39mfinally\u001b[39;00m:\n\u001b[1;32m---> <a href='vscode-notebook-cell:/d%3A/Intern_VNPT/sep_21/demo_xml.ipynb#W1sZmlsZQ%3D%3D?line=25'>26</a>\u001b[0m     conn\u001b[39m.\u001b[39mclose()\n",
      "\u001b[1;31mNameError\u001b[0m: name 'conn' is not defined"
     ]
    }
   ],
   "source": [
    "import oracledb\n",
    "\n",
    "try:\n",
    "    conn = oracledb.connect(user=\"c##john\", password=\"abcd1234\", dsn=\"localhost:1521/orcl\")\n",
    "    print(conn.version)\n",
    "\n",
    "    cursor = conn.cursor()\n",
    "    try:\n",
    "        sql = \"\"\"\n",
    "        INSERT INTO PERSONS (PersonID, FirstName, LastName, BirthDate, Email, Phone)\n",
    "        VALUES (4, 'Emily', 'Davis', TO_DATE('1998-08-25', 'YYYY-MM-DD'), 'emily.davis@example.com', '555-555-5555')\n",
    "        \"\"\"\n",
    "        cursor.execute(sql)\n",
    "        \n",
    "        # Commit the transaction to save the changes\n",
    "        conn.commit()\n",
    "        \n",
    "        print(\"Insert successful.\")\n",
    "    except oracledb.Error as e:\n",
    "        print(\"Oracle Error:\", e)\n",
    "    finally:\n",
    "        cursor.close()\n",
    "except oracledb.Error as e:\n",
    "    print(\"Oracle Error:\", e)\n",
    "finally:\n",
    "    conn.close()\n",
    "\n",
    "\n",
    "  "
   ]
  },
  {
   "cell_type": "code",
   "execution_count": null,
   "metadata": {},
   "outputs": [
    {
     "name": "stdout",
     "output_type": "stream",
     "text": [
      "19.3.0.0.0\n",
      "(4, 'Emily', 'Davis', datetime.datetime(1998, 8, 25, 0, 0), 'emily.davis@example.com', '555-555-5555')\n",
      "get successful.\n"
     ]
    }
   ],
   "source": [
    "import oracledb\n",
    "\n",
    "try:\n",
    "    conn = oracledb.connect(user=\"c##john\", password=\"abcd1234\", dsn=\"localhost:1521/orcl\")\n",
    "    print(conn.version)\n",
    "\n",
    "    cursor = conn.cursor()\n",
    "    try:\n",
    "        sql = \"\"\"\n",
    "        SELECT * FROM PERSONS\n",
    "        \"\"\"\n",
    "        cursor.execute(sql)\n",
    "        result = cursor.fetchall()\n",
    "        for row in result:\n",
    "            print(row)\n",
    "        \n",
    "        print(\"get successful.\")\n",
    "    except oracledb.Error as e:\n",
    "        print(\"Oracle Error:\", e)\n",
    "    finally:\n",
    "        cursor.close()\n",
    "except oracledb.Error as e:\n",
    "    print(\"Oracle Error:\", e)\n",
    "finally:\n",
    "    conn.close()"
   ]
  },
  {
   "cell_type": "code",
   "execution_count": 3,
   "metadata": {},
   "outputs": [],
   "source": [
    "api = \"http://restapi.adequateshop.com/api/Traveler\""
   ]
  },
  {
   "cell_type": "code",
   "execution_count": 4,
   "metadata": {},
   "outputs": [],
   "source": [
    "def call_api (page_number):\n",
    "    request_session = requests.session()\n",
    "    request_session.keep_alive = False\n",
    "    urllib3.disable_warnings()\n",
    "    try:\n",
    "        result = request_session.get(url=api+f\"?Page={page_number}\",verify=False)\n",
    "        result.raise_for_status()\n",
    "    except Exception as e:\n",
    "        result = f\"Error: {e}\"\n",
    "    \n",
    "    return result\n"
   ]
  },
  {
   "cell_type": "code",
   "execution_count": 6,
   "metadata": {},
   "outputs": [
    {
     "name": "stdout",
     "output_type": "stream",
     "text": [
      "03-Oct-23-13-53-22\n"
     ]
    }
   ],
   "source": [
    "# CSV file initialization and creation\n",
    "csv_file = \"D:\\Intern_VNPT\\sep_21\\data\\demo_xml.csv\"\n",
    "date_time = datetime.datetime.today().strftime('%d-%b-%y-%H-%M-%S')\n",
    "print(date_time)\n",
    "# create csv file if not exists\n",
    "with open(csv_file, 'w', newline='') as file:\n",
    "    writer = csv.writer(file)\n",
    "    writer.writerow([\"ID\", \"name\", \"email\", \"address\", \"createdate\",\"importdate\"])"
   ]
  },
  {
   "cell_type": "code",
   "execution_count": 8,
   "metadata": {},
   "outputs": [
    {
     "ename": "TypeError",
     "evalue": "call_api() takes 1 positional argument but 2 were given",
     "output_type": "error",
     "traceback": [
      "\u001b[1;31m---------------------------------------------------------------------------\u001b[0m",
      "\u001b[1;31mTypeError\u001b[0m                                 Traceback (most recent call last)",
      "\u001b[1;32md:\\Intern_VNPT\\sep_21\\demo_xml.ipynb Cell 7\u001b[0m line \u001b[0;36m4\n\u001b[0;32m      <a href='vscode-notebook-cell:/d%3A/Intern_VNPT/sep_21/demo_xml.ipynb#W6sZmlsZQ%3D%3D?line=1'>2</a>\u001b[0m page \u001b[39m=\u001b[39m\u001b[39m1\u001b[39m\n\u001b[0;32m      <a href='vscode-notebook-cell:/d%3A/Intern_VNPT/sep_21/demo_xml.ipynb#W6sZmlsZQ%3D%3D?line=2'>3</a>\u001b[0m \u001b[39mwhile\u001b[39;00m \u001b[39mTrue\u001b[39;00m:\n\u001b[1;32m----> <a href='vscode-notebook-cell:/d%3A/Intern_VNPT/sep_21/demo_xml.ipynb#W6sZmlsZQ%3D%3D?line=3'>4</a>\u001b[0m     result \u001b[39m=\u001b[39m call_api(page,api)\n\u001b[0;32m      <a href='vscode-notebook-cell:/d%3A/Intern_VNPT/sep_21/demo_xml.ipynb#W6sZmlsZQ%3D%3D?line=4'>5</a>\u001b[0m     \u001b[39mprint\u001b[39m(\u001b[39mf\u001b[39m\u001b[39m\"\u001b[39m\u001b[39mStatus Code: \u001b[39m\u001b[39m{\u001b[39;00mresult\u001b[39m.\u001b[39mstatus_code\u001b[39m}\u001b[39;00m\u001b[39m\"\u001b[39m)\n\u001b[0;32m      <a href='vscode-notebook-cell:/d%3A/Intern_VNPT/sep_21/demo_xml.ipynb#W6sZmlsZQ%3D%3D?line=5'>6</a>\u001b[0m     root \u001b[39m=\u001b[39m ET\u001b[39m.\u001b[39mfromstring(result\u001b[39m.\u001b[39mtext)\n",
      "\u001b[1;31mTypeError\u001b[0m: call_api() takes 1 positional argument but 2 were given"
     ]
    }
   ],
   "source": [
    "import xml.etree.ElementTree as ET\n",
    "page =1\n",
    "while True:\n",
    "    result = call_api(page)\n",
    "    print(f\"Status Code: {result.status_code}\")\n",
    "    root = ET.fromstring(result.text)\n",
    "    current_page = root.find('./page').text\n",
    "    total_page = root.find('./total_pages').text\n",
    "    total_traveler = root.find('./totalrecord').text\n",
    "    print(f\"Total traveler: {total_traveler}\")\n",
    "    print(f\"Current page: {current_page} out of {total_page}\")\n",
    "\n",
    "    for elem in root.findall('.//Travelerinformation'):\n",
    "        print(\"new traveler\")\n",
    "        export_array = []\n",
    "        for attribute in elem:\n",
    "            export_array.append(attribute.text)\n",
    "\n",
    "        print (export_array)\n",
    "        export_array.append(date_time)\n",
    "        #save to csv\n",
    "        with open(csv_file, 'a', newline='',encoding=\"utf-8\") as file:\n",
    "            writer = csv.writer(file)\n",
    "            writer.writerow(export_array)\n",
    "        print (\"imported to csv successfully\")\n",
    "        print (\"-----------------------------\")\n",
    "        del export_array\n",
    "    page = int(current_page) + 1\n",
    "    if int(page) > int(total_page):\n",
    "        break"
   ]
  },
  {
   "cell_type": "code",
   "execution_count": 2,
   "metadata": {},
   "outputs": [
    {
     "name": "stdout",
     "output_type": "stream",
     "text": [
      "2023-10-04 16:15:11.497662\n"
     ]
    }
   ],
   "source": [
    "import datetime\n",
    "print(datetime.datetime.now())"
   ]
  }
 ],
 "metadata": {
  "kernelspec": {
   "display_name": "Python 3",
   "language": "python",
   "name": "python3"
  },
  "language_info": {
   "codemirror_mode": {
    "name": "ipython",
    "version": 3
   },
   "file_extension": ".py",
   "mimetype": "text/x-python",
   "name": "python",
   "nbconvert_exporter": "python",
   "pygments_lexer": "ipython3",
   "version": "3.11.5"
  },
  "orig_nbformat": 4
 },
 "nbformat": 4,
 "nbformat_minor": 2
}
